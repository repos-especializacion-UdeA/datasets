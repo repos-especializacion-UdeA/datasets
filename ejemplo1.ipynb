{
 "cells": [
  {
   "cell_type": "code",
   "execution_count": 22,
   "metadata": {},
   "outputs": [
    {
     "name": "stdout",
     "output_type": "stream",
     "text": [
      "2.9478135745140324\n"
     ]
    }
   ],
   "source": [
    "X = 90.48\n",
    "uo = 90\n",
    "S = 1.1514\n",
    "n = 50\n",
    "\n",
    "\n",
    "# Calculo de Zc\n",
    "Zc = (X - uo) / (S / n**0.5)\n",
    "print(Zc)"
   ]
  },
  {
   "cell_type": "code",
   "execution_count": 23,
   "metadata": {},
   "outputs": [
    {
     "name": "stdout",
     "output_type": "stream",
     "text": [
      "0.0016001499792819285\n"
     ]
    }
   ],
   "source": [
    "import scipy.stats as stats\n",
    "#2. Valor VP = P(Z >= Zc)\n",
    "VP = 1 - stats.norm.cdf(Zc)\n",
    "print(VP)"
   ]
  },
  {
   "cell_type": "code",
   "execution_count": 24,
   "metadata": {},
   "outputs": [
    {
     "name": "stdout",
     "output_type": "stream",
     "text": [
      "True\n"
     ]
    }
   ],
   "source": [
    "#3. Si Vp < a, se rechaza la hipotesis nula\n",
    "a = 0.01\n",
    "print(VP < a)\n"
   ]
  },
  {
   "cell_type": "code",
   "execution_count": 25,
   "metadata": {},
   "outputs": [
    {
     "name": "stdout",
     "output_type": "stream",
     "text": [
      "2.3263478740408408\n"
     ]
    }
   ],
   "source": [
    "import scipy.stats as stats\n",
    "a = 0.01\n",
    "Za = stats.norm.ppf(1-a)\n",
    "print(Za)"
   ]
  },
  {
   "cell_type": "code",
   "execution_count": 33,
   "metadata": {},
   "outputs": [
    {
     "name": "stdout",
     "output_type": "stream",
     "text": [
      "Ttest_indResult(statistic=np.float64(-5.209458852746756), pvalue=np.float64(2.699498169920485e-06))\n",
      "-5.209458852746756\n",
      "9.469610123408802e-08\n",
      "True\n"
     ]
    },
    {
     "data": {
      "text/plain": [
       "'\\nComo el valod de VP es menor que a, se rechaza la hipotesis nula, \\npor lo que se concluye que el rendimiento con el catalizador 1 \\nes menor que el rendimiento con el catalizador 2 (u1 < u2). \\nEntre más pequeño sea el valor de VP más fuerte es la evidencia en contra de la hipotesis nula,\\no mas fuerte es la evidencia a favor de la hipotesis alternativa.\\n'"
      ]
     },
     "execution_count": 33,
     "metadata": {},
     "output_type": "execute_result"
    }
   ],
   "source": [
    "# Ejemplo 2\n",
    "# Xi = rendimiento del lote i con catalizador 1\n",
    "nx = 36\n",
    "X = 86\n",
    "Sx = 3\n",
    "\n",
    "# Yj = rendimiento del lote j con catalizador 2\n",
    "ny = 49\n",
    "Y = 89\n",
    "Sy = 2\n",
    "\n",
    "# Paso 1- hipotesis nula H0: u1 - u2 >= 0\n",
    "# hipotesis alternativa Ha: u1 - u2 < 0\n",
    "d0 = m = 0\n",
    "VP = stats.ttest_ind_from_stats(X, Sx, nx, Y, Sy, ny, equal_var=False)\n",
    "print(VP)\n",
    "\n",
    "\n",
    "# Paso 2 - Cálculo del estadístico de prueba Zc\n",
    "\n",
    "# Zc\n",
    "Zc = (X - Y - d0) / ((Sx**2 / nx + Sy**2 / ny)**0.5)\n",
    "print(Zc)\n",
    "\n",
    "# Paso 3.2: VP = P(Z <= Zc) (Caso 2 de las diapositivas)\n",
    "VP = stats.norm.cdf(Zc)\n",
    "print(VP)\n",
    "\n",
    "# Paso 4 - Si VP <= a, se rechaza la hipotesis nula, para un a = 0.05\n",
    "print(VP <= a)\n",
    "\n",
    "\"\"\"\n",
    "Como el valod de VP es menor que a, se rechaza la hipotesis nula, \n",
    "por lo que se concluye que el rendimiento con el catalizador 1 \n",
    "es menor que el rendimiento con el catalizador 2 (u1 < u2). \n",
    "Entre más pequeño sea el valor de VP más fuerte es la evidencia en contra de la hipotesis nula,\n",
    "o mas fuerte es la evidencia a favor de la hipotesis alternativa.\n",
    "\"\"\""
   ]
  },
  {
   "cell_type": "code",
   "execution_count": 34,
   "metadata": {},
   "outputs": [
    {
     "name": "stdout",
     "output_type": "stream",
     "text": [
      "Ttest_indResult(statistic=np.float64(-5.209458852746756), pvalue=np.float64(2.699498169920485e-06))\n",
      "True\n"
     ]
    }
   ],
   "source": [
    "# Otro forma de hacerlo es usando el método ttest_ind de scipy  \n",
    "import scipy.stats as stats\n",
    "VP = stats.ttest_ind_from_stats(X, Sx, nx, Y, Sy, ny, equal_var=False)\n",
    "print(VP)\n",
    "print(VP.pvalue <= a)"
   ]
  },
  {
   "cell_type": "markdown",
   "metadata": {},
   "source": [
    "## Ejemplo 4"
   ]
  },
  {
   "cell_type": "code",
   "execution_count": 30,
   "metadata": {},
   "outputs": [
    {
     "name": "stdout",
     "output_type": "stream",
     "text": [
      "-28.5686667005559\n",
      "8.235776306298994e-180\n",
      "True\n"
     ]
    }
   ],
   "source": [
    "# Xi = resistencia a la tensión de la varilla grado AISI-1064\n",
    "nx = 129\n",
    "X = 107.6\n",
    "Sx = 1.3\n",
    "\n",
    "# Yj = resistencia a la tensión de la varilla grado AISI-1078\n",
    "ny = 129\n",
    "Y = 123.6\n",
    "Sy = 2\n",
    "\n",
    "# Paso 1 \n",
    "# u2 - u1 > 10Kg mm2 -> u1 - u2 < -10Kg mm2\n",
    "# hipotesis nula H0: u1 - u2 >= -10\n",
    "# hipotesis alternativa Ha: u1 - u2 < -\n",
    "\n",
    "d0 = -10\n",
    "\n",
    "# Paso 2 - Cálculo del estadístico de prueba Zc\n",
    "\n",
    "# Zc\n",
    "Zc = (X - Y - d0) / ((Sx**2 / nx + Sy**2 / ny)**0.5)\n",
    "print(Zc)\n",
    "\n",
    "# Paso 3.2: VP = P(Z <= Zc) (Caso 2 de las diapositivas)\n",
    "VP = stats.norm.cdf(Zc)\n",
    "print(VP)\n",
    "\n",
    "# Paso 4 - Si VP <= a, se rechaza la hipotesis nula, para un a = 0.05\n",
    "print(VP <= a)\n"
   ]
  }
 ],
 "metadata": {
  "kernelspec": {
   "display_name": "Python 3",
   "language": "python",
   "name": "python3"
  },
  "language_info": {
   "codemirror_mode": {
    "name": "ipython",
    "version": 3
   },
   "file_extension": ".py",
   "mimetype": "text/x-python",
   "name": "python",
   "nbconvert_exporter": "python",
   "pygments_lexer": "ipython3",
   "version": "3.11.9"
  }
 },
 "nbformat": 4,
 "nbformat_minor": 2
}
